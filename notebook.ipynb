{
 "cells": [
  {
   "cell_type": "markdown",
   "metadata": {},
   "source": [
    "<div style=\"border:solid green 2px; padding: 20px\"> <h1 style=\"color:green; margin-bottom:20px\">Reviewers comment v1</h1>\n",
    "\n",
    "Hello Jonathan!\n",
    "\n",
    "I'm happy to review your project today 🙌\n",
    "\n",
    "My name is **Justino Imbert** ([this](https://hub.tripleten.com/u/125e88ae) is my Hub profile) and today I'll be reviewing your project!\n",
    "\n",
    "\n",
    "You can find my comments under the heading **«Review»**. I will categorize my comments in green, blue or red boxes like this:\n",
    "\n",
    "<div class=\"alert alert-success\">\n",
    "    <b>Success:</b> if everything is done successfully\n",
    "</div>\n",
    "<div class=\"alert alert-warning\">\n",
    "    <b>Remarks:</b> if I can give some recommendations or ways to improve the project\n",
    "</div>\n",
    "<div class=\"alert alert-danger\">\n",
    "    <b>Needs fixing:</b> if the block requires some corrections. Work cant be accepted with the red comments\n",
    "</div>\n",
    "\n",
    "Please dont remove my comments :) If you have any questions dont hesitate to respond to my comments in a different section. \n",
    "<div class=\"alert alert-info\"> <b>Student comments:</b> For example like this</div>    "
   ]
  },
  {
   "cell_type": "markdown",
   "metadata": {},
   "source": [
    "<div class=\"alert alert-block alert-success\">\n",
    "<b>Reviewer's comment v1:</b> </a>\n",
    "\n",
    "Hey I believe your notebook is looking pretty cool, your code is well organized, I see comments everywhere and it's reproducible!\n",
    "    \n",
    "</div>\n",
    "\n",
    "<div class=\"alert alert-block alert-danger\">\n",
    "<b>Reviewer's comment v1:</b> </a>\n",
    "\n",
    "You have to surpass the 0.59 F1 score threshold, I recommend testing more weapons to improve the model performance just that little bit you have left!\n",
    "    \n",
    "</div>\n",
    "\n",
    "<div class=\"alert alert-block alert-success\">\n",
    "<b>Reviewer's comment v1:</b> </a>\n",
    "\n",
    "I'm looking forward to reviewing your next submission!\n",
    "    \n",
    "</div>"
   ]
  },
  {
   "cell_type": "markdown",
   "metadata": {},
   "source": [
    "<div class=\"alert alert-block alert-success\">\n",
    "<b>Reviewer's comment v2:</b> </a>\n",
    "\n",
    "You did an awesome job in this submission, it's concise, clean and works surpasses our goal! It's also awesome that you are getting practice on working like this, Data Science work very often comes in this form!\n",
    "\n",
    "Congrats on the great job, I'm approving this submission!\n",
    "\n",
    "I'm looking forward to reviewing your future work!\n",
    "\n",
    "Good luck!\n",
    "    \n",
    "</div>"
   ]
  },
  {
   "cell_type": "code",
   "execution_count": 1,
   "metadata": {},
   "outputs": [
    {
     "name": "stdout",
     "output_type": "stream",
     "text": [
      "<class 'pandas.core.frame.DataFrame'>\n",
      "RangeIndex: 10000 entries, 0 to 9999\n",
      "Data columns (total 14 columns):\n",
      " #   Column           Non-Null Count  Dtype  \n",
      "---  ------           --------------  -----  \n",
      " 0   RowNumber        10000 non-null  int64  \n",
      " 1   CustomerId       10000 non-null  int64  \n",
      " 2   Surname          10000 non-null  object \n",
      " 3   CreditScore      10000 non-null  int64  \n",
      " 4   Geography        10000 non-null  object \n",
      " 5   Gender           10000 non-null  object \n",
      " 6   Age              10000 non-null  int64  \n",
      " 7   Tenure           9091 non-null   float64\n",
      " 8   Balance          10000 non-null  float64\n",
      " 9   NumOfProducts    10000 non-null  int64  \n",
      " 10  HasCrCard        10000 non-null  int64  \n",
      " 11  IsActiveMember   10000 non-null  int64  \n",
      " 12  EstimatedSalary  10000 non-null  float64\n",
      " 13  Exited           10000 non-null  int64  \n",
      "dtypes: float64(3), int64(8), object(3)\n",
      "memory usage: 1.1+ MB\n"
     ]
    },
    {
     "data": {
      "text/plain": [
       "((10000, 14),\n",
       " RowNumber            0\n",
       " CustomerId           0\n",
       " Surname              0\n",
       " CreditScore          0\n",
       " Geography            0\n",
       " Gender               0\n",
       " Age                  0\n",
       " Tenure             909\n",
       " Balance              0\n",
       " NumOfProducts        0\n",
       " HasCrCard            0\n",
       " IsActiveMember       0\n",
       " EstimatedSalary      0\n",
       " Exited               0\n",
       " dtype: int64,\n",
       "    RowNumber  CustomerId   Surname  CreditScore Geography  Gender  Age  \\\n",
       " 0          1    15634602  Hargrave          619    France  Female   42   \n",
       " 1          2    15647311      Hill          608     Spain  Female   41   \n",
       " 2          3    15619304      Onio          502    France  Female   42   \n",
       " 3          4    15701354      Boni          699    France  Female   39   \n",
       " 4          5    15737888  Mitchell          850     Spain  Female   43   \n",
       " \n",
       "    Tenure    Balance  NumOfProducts  HasCrCard  IsActiveMember  \\\n",
       " 0     2.0       0.00              1          1               1   \n",
       " 1     1.0   83807.86              1          0               1   \n",
       " 2     8.0  159660.80              3          1               0   \n",
       " 3     1.0       0.00              2          0               0   \n",
       " 4     2.0  125510.82              1          1               1   \n",
       " \n",
       "    EstimatedSalary  Exited  \n",
       " 0        101348.88       1  \n",
       " 1        112542.58       0  \n",
       " 2        113931.57       1  \n",
       " 3         93826.63       0  \n",
       " 4         79084.10       0  )"
      ]
     },
     "execution_count": 1,
     "metadata": {},
     "output_type": "execute_result"
    }
   ],
   "source": [
    "import pandas as pd\n",
    "\n",
    "# Load the dataset\n",
    "\n",
    "df = pd.read_csv('/datasets/Churn.csv')\n",
    "df.head()\n",
    "\n",
    "# Basic info about the dataset\n",
    "info = df.info()\n",
    "head = df.head()\n",
    "shape = df.shape\n",
    "missing = df.isna().sum()\n",
    "\n",
    "shape, missing, head"
   ]
  },
  {
   "cell_type": "code",
   "execution_count": 2,
   "metadata": {},
   "outputs": [
    {
     "data": {
      "image/png": "[encoded data removed]",
      "text/plain": [
       "<Figure size 500x400 with 1 Axes>"
      ]
     },
     "metadata": {},
     "output_type": "display_data"
    },
    {
     "data": {
      "text/plain": [
       "0    0.7963\n",
       "1    0.2037\n",
       "Name: Exited, dtype: float64"
      ]
     },
     "execution_count": 2,
     "metadata": {},
     "output_type": "execute_result"
    }
   ],
   "source": [
    "import matplotlib.pyplot as plt\n",
    "\n",
    "# Check class balance\n",
    "class_counts = df['Exited'].value_counts(normalize=True)\n",
    "\n",
    "# Plot class balance\n",
    "plt.figure(figsize=(5,4))\n",
    "df['Exited'].value_counts().plot(kind='bar', color=['skyblue','salmon'])\n",
    "plt.title(\"Target Distribution: Exited (0=Stayed, 1=Left)\")\n",
    "plt.xticks([0,1], ['Stayed (0)','Exited (1)'], rotation=0)\n",
    "plt.ylabel(\"Count\")\n",
    "plt.show()\n",
    "\n",
    "class_counts"
   ]
  },
  {
   "cell_type": "markdown",
   "metadata": {},
   "source": [
    "Shows class imbalance.Most customers stayed while 1 in 5 left"
   ]
  },
  {
   "cell_type": "markdown",
   "metadata": {},
   "source": [
    "<div class=\"alert alert-block alert-success\">\n",
    "<b>Reviewer's comment v1:</b> </a>\n",
    "\n",
    "Nice job importing the appropriate libraries, loading and inspecting the data!\n",
    "\n",
    "Good job checking the class imbalance aswell!\n",
    "    \n",
    "</div>"
   ]
  },
  {
   "cell_type": "code",
   "execution_count": 3,
   "metadata": {},
   "outputs": [
    {
     "data": {
      "text/plain": [
       "(0.3159784560143627, 0.7561243832430273, 0.5625, 0.84737742364861)"
      ]
     },
     "execution_count": 3,
     "metadata": {},
     "output_type": "execute_result"
    }
   ],
   "source": [
    "from sklearn.model_selection import train_test_split\n",
    "from sklearn.preprocessing import OneHotEncoder, StandardScaler\n",
    "from sklearn.compose import ColumnTransformer\n",
    "from sklearn.pipeline import Pipeline\n",
    "from sklearn.impute import SimpleImputer\n",
    "from sklearn.linear_model import LogisticRegression\n",
    "from sklearn.ensemble import RandomForestClassifier\n",
    "from sklearn.metrics import f1_score, roc_auc_score, classification_report\n",
    "\n",
    "# Drop ID columns\n",
    "df_model = df.drop(columns=['RowNumber', 'CustomerId', 'Surname'])\n",
    "\n",
    "# Define features and target\n",
    "X = df_model.drop(columns=['Exited'])\n",
    "y = df_model['Exited']\n",
    "\n",
    "# Train/validation/test split (60/20/20)\n",
    "X_trainval, X_test, y_trainval, y_test = train_test_split(\n",
    "    X, y, test_size=0.2, stratify=y, random_state=42)\n",
    "X_train, X_val, y_train, y_val = train_test_split(\n",
    "    X_trainval, y_trainval, test_size=0.25, stratify=y_trainval, random_state=42)\n",
    "\n",
    "# Preprocessing\n",
    "num_features = X.select_dtypes(include=['int64','float64']).columns.tolist()\n",
    "num_features = [c for c in num_features if c not in ['Exited']]\n",
    "cat_features = ['Geography','Gender']\n",
    "\n",
    "numeric_transformer = Pipeline(steps=[\n",
    "    ('imputer', SimpleImputer(strategy='median')),\n",
    "    ('scaler', StandardScaler())\n",
    "])\n",
    "\n",
    "# Categorical transformer\n",
    "categorical_transformer = Pipeline(steps=[\n",
    "    ('imputer', SimpleImputer(strategy='most_frequent')),\n",
    "    ('onehot', OneHotEncoder(handle_unknown='ignore'))\n",
    "])\n",
    "\n",
    "preprocessor = ColumnTransformer(transformers=[\n",
    "    ('num', numeric_transformer, num_features),\n",
    "    ('cat', categorical_transformer, cat_features)\n",
    "])\n",
    "\n",
    "# Logistic Regression\n",
    "pipe_lr = Pipeline(steps=[\n",
    "    ('preprocessor', preprocessor),\n",
    "    ('clf', LogisticRegression(max_iter=2000, random_state=42))\n",
    "])\n",
    "pipe_lr.fit(X_train, y_train)\n",
    "\n",
    "y_val_pred_lr = pipe_lr.predict(X_val)\n",
    "y_val_prob_lr = pipe_lr.predict_proba(X_val)[:,1]\n",
    "\n",
    "lr_f1 = f1_score(y_val, y_val_pred_lr)\n",
    "lr_auc = roc_auc_score(y_val, y_val_prob_lr)\n",
    "\n",
    "# Random Forest\n",
    "pipe_rf = Pipeline(steps=[\n",
    "    ('preprocessor', preprocessor),\n",
    "    ('clf', RandomForestClassifier(n_estimators=200, random_state=42))\n",
    "])\n",
    "pipe_rf.fit(X_train, y_train)\n",
    "\n",
    "y_val_pred_rf = pipe_rf.predict(X_val)\n",
    "y_val_prob_rf = pipe_rf.predict_proba(X_val)[:,1]\n",
    "\n",
    "rf_f1 = f1_score(y_val, y_val_pred_rf)\n",
    "rf_auc = roc_auc_score(y_val, y_val_prob_rf)\n",
    "\n",
    "(lr_f1, lr_auc, rf_f1, rf_auc)"
   ]
  },
  {
   "cell_type": "markdown",
   "metadata": {},
   "source": [
    "Logistic Regression performs poorly on F1 but has moderate AUC-ROC.\n",
    "Random Forest performs better on F1 and AUC-ROC\n",
    "Both models confirm an imbalance. F1 is below threshold."
   ]
  },
  {
   "cell_type": "markdown",
   "metadata": {},
   "source": [
    "<div class=\"alert alert-block alert-success\">\n",
    "<b>Reviewer's comment v1:</b> </a>\n",
    "\n",
    "Good job training a naive logistic regression and random forest to check the initial performance!\n",
    "\n",
    "Also finding descriptiong looking good!\n",
    "    \n",
    "</div>"
   ]
  },
  {
   "cell_type": "code",
   "execution_count": 4,
   "metadata": {
    "scrolled": true
   },
   "outputs": [
    {
     "data": {
      "text/plain": [
       "(0.5486443381180223, 0.8531628701120225)"
      ]
     },
     "execution_count": 4,
     "metadata": {},
     "output_type": "execute_result"
    }
   ],
   "source": [
    "df = pd.read_csv('/datasets/Churn.csv')\n",
    "\n",
    "from sklearn.model_selection import train_test_split\n",
    "from sklearn.preprocessing import OneHotEncoder, StandardScaler\n",
    "from sklearn.compose import ColumnTransformer\n",
    "from sklearn.pipeline import Pipeline\n",
    "from sklearn.impute import SimpleImputer\n",
    "from sklearn.ensemble import RandomForestClassifier\n",
    "from sklearn.metrics import f1_score, roc_auc_score\n",
    "\n",
    "df_model = df.drop(columns=['RowNumber', 'CustomerId', 'Surname'])\n",
    "\n",
    "X = df_model.drop(columns=['Exited'])\n",
    "y = df_model['Exited']\n",
    "\n",
    "# Split data\n",
    "X_trainval, X_test, y_trainval, y_test = train_test_split(\n",
    "    X, y, test_size=0.2, stratify=y, random_state=42)\n",
    "X_train, X_val, y_train, y_val = train_test_split(\n",
    "    X_trainval, y_trainval, test_size=0.25, stratify=y_trainval, random_state=42)\n",
    "\n",
    "# Preprocessing\n",
    "num_features = X.select_dtypes(include=['int64','float64']).columns.tolist()\n",
    "cat_features = ['Geography','Gender']\n",
    "\n",
    "numeric_transformer = Pipeline(steps=[\n",
    "    ('imputer', SimpleImputer(strategy='median')),\n",
    "    ('scaler', StandardScaler())\n",
    "])\n",
    "\n",
    "categorical_transformer = Pipeline(steps=[\n",
    "    ('imputer', SimpleImputer(strategy='most_frequent')),\n",
    "    ('onehot', OneHotEncoder(handle_unknown='ignore'))\n",
    "])\n",
    "\n",
    "preprocessor = ColumnTransformer(transformers=[\n",
    "    ('num', numeric_transformer, num_features),\n",
    "    ('cat', categorical_transformer, cat_features)\n",
    "])\n",
    "\n",
    "# Random Forest with class_weight='balanced'\n",
    "pipe_rf_balanced = Pipeline(steps=[\n",
    "    ('preprocessor', preprocessor),\n",
    "    ('clf', RandomForestClassifier(n_estimators=200, class_weight='balanced', random_state=42))\n",
    "])\n",
    "\n",
    "pipe_rf_balanced.fit(X_train, y_train)\n",
    "y_val_pred_rf_balanced = pipe_rf_balanced.predict(X_val)\n",
    "y_val_prob_rf_balanced = pipe_rf_balanced.predict_proba(X_val)[:,1]\n",
    "\n",
    "rf_bal_f1 = f1_score(y_val, y_val_pred_rf_balanced)\n",
    "rf_bal_auc = roc_auc_score(y_val, y_val_prob_rf_balanced)\n",
    "\n",
    "(rf_bal_f1, rf_bal_auc)"
   ]
  },
  {
   "cell_type": "markdown",
   "metadata": {},
   "source": [
    "Using the 'balance' class weight slightly reduced F1 scores compared to the unweighted random forest, while AUC-ROC stayed about the same"
   ]
  },
  {
   "cell_type": "code",
   "execution_count": 5,
   "metadata": {},
   "outputs": [
    {
     "data": {
      "text/plain": [
       "(0.6024759284731773, 0.8478139156105259)"
      ]
     },
     "execution_count": 5,
     "metadata": {},
     "output_type": "execute_result"
    }
   ],
   "source": [
    "from sklearn.utils import resample\n",
    "\n",
    "# Combine X_train and y_train into a single DataFrame for resampling\n",
    "train_df = X_train.copy()\n",
    "train_df['Exited'] = y_train\n",
    "\n",
    "# Separate majority and minority classes\n",
    "df_majority = train_df[train_df.Exited == 0]\n",
    "df_minority = train_df[train_df.Exited == 1]\n",
    "\n",
    "# Upsample minority class\n",
    "df_minority_upsampled = resample(df_minority, \n",
    "                                 replace=True,     # sample with replacement\n",
    "                                 n_samples=len(df_majority),  # match majority count\n",
    "                                 random_state=42)\n",
    "\n",
    "# Combine majority and upsampled minority\n",
    "df_upsampled = pd.concat([df_majority, df_minority_upsampled])\n",
    "\n",
    "# Split back into features and target\n",
    "X_train_upsampled = df_upsampled.drop(columns=['Exited'])\n",
    "y_train_upsampled = df_upsampled['Exited']\n",
    "\n",
    "# Fit Random Forest with oversampled data\n",
    "pipe_rf_oversample = Pipeline(steps=[\n",
    "    ('preprocessor', preprocessor),\n",
    "    ('clf', RandomForestClassifier(n_estimators=200, random_state=42))\n",
    "])\n",
    "\n",
    "pipe_rf_oversample.fit(X_train_upsampled, y_train_upsampled)\n",
    "\n",
    "# Validation predictions\n",
    "y_val_pred_rf_oversample = pipe_rf_oversample.predict(X_val)\n",
    "y_val_prob_rf_oversample = pipe_rf_oversample.predict_proba(X_val)[:, 1]\n",
    "\n",
    "rf_oversample_f1 = f1_score(y_val, y_val_pred_rf_oversample)\n",
    "rf_oversample_auc = roc_auc_score(y_val, y_val_prob_rf_oversample)\n",
    "\n",
    "(rf_oversample_f1, rf_oversample_auc)"
   ]
  },
  {
   "cell_type": "markdown",
   "metadata": {},
   "source": [
    "F1 above threshold, AUC-ROC lowered but still good enough"
   ]
  },
  {
   "cell_type": "markdown",
   "metadata": {},
   "source": [
    "<div class=\"alert alert-block alert-success\">\n",
    "<b>Reviewer's comment v1:</b> </a>\n",
    "\n",
    "Hey awesome job using different class imbalance handling techniques!\n",
    "    \n",
    "</div>"
   ]
  },
  {
   "cell_type": "code",
   "execution_count": 6,
   "metadata": {},
   "outputs": [
    {
     "name": "stdout",
     "output_type": "stream",
     "text": [
      "Fitting 3 folds for each of 20 candidates, totalling 60 fits\n",
      "Best Parameters: {'clf__n_estimators': 400, 'clf__min_samples_split': 5, 'clf__min_samples_leaf': 1, 'clf__max_features': 'log2', 'clf__max_depth': None}\n",
      "Best F1 on Validation Set: 0.6193724420190997\n",
      "Best AUC-ROC on Validation Set: 0.8526068441322678\n"
     ]
    }
   ],
   "source": [
    "import pandas as pd\n",
    "from sklearn.model_selection import train_test_split, RandomizedSearchCV\n",
    "from sklearn.preprocessing import OneHotEncoder, StandardScaler\n",
    "from sklearn.compose import ColumnTransformer\n",
    "from sklearn.pipeline import Pipeline\n",
    "from sklearn.impute import SimpleImputer\n",
    "from sklearn.ensemble import RandomForestClassifier\n",
    "from sklearn.metrics import f1_score, roc_auc_score\n",
    "from sklearn.utils import resample\n",
    "import numpy as np\n",
    "\n",
    "# Load data\n",
    "df = pd.read_csv('/datasets/Churn.csv')\n",
    "df_model = df.drop(columns=['RowNumber', 'CustomerId', 'Surname'])\n",
    "\n",
    "X = df_model.drop(columns=['Exited'])\n",
    "y = df_model['Exited']\n",
    "\n",
    "# Split data\n",
    "X_trainval, X_test, y_trainval, y_test = train_test_split(\n",
    "    X, y, test_size=0.2, stratify=y, random_state=42)\n",
    "X_train, X_val, y_train, y_val = train_test_split(\n",
    "    X_trainval, y_trainval, test_size=0.25, stratify=y_trainval, random_state=42)\n",
    "\n",
    "# Preprocessor\n",
    "num_features = X.select_dtypes(include=['int64','float64']).columns.tolist()\n",
    "cat_features = ['Geography','Gender']\n",
    "\n",
    "numeric_transformer = Pipeline(steps=[\n",
    "    ('imputer', SimpleImputer(strategy='median')),\n",
    "    ('scaler', StandardScaler())\n",
    "])\n",
    "\n",
    "categorical_transformer = Pipeline(steps=[\n",
    "    ('imputer', SimpleImputer(strategy='most_frequent')),\n",
    "    ('onehot', OneHotEncoder(handle_unknown='ignore'))\n",
    "])\n",
    "\n",
    "preprocessor = ColumnTransformer(transformers=[\n",
    "    ('num', numeric_transformer, num_features),\n",
    "    ('cat', categorical_transformer, cat_features)\n",
    "])\n",
    "\n",
    "# Oversample minority class\n",
    "train_df = X_train.copy()\n",
    "train_df['Exited'] = y_train\n",
    "\n",
    "df_majority = train_df[train_df.Exited == 0]\n",
    "df_minority = train_df[train_df.Exited == 1]\n",
    "\n",
    "df_minority_upsampled = resample(df_minority, \n",
    "                                 replace=True,\n",
    "                                 n_samples=len(df_majority),\n",
    "                                 random_state=42)\n",
    "\n",
    "df_upsampled = pd.concat([df_majority, df_minority_upsampled])\n",
    "\n",
    "X_train_upsampled = df_upsampled.drop(columns=['Exited'])\n",
    "y_train_upsampled = df_upsampled['Exited']\n",
    "\n",
    "# Random Forest Pipeline\n",
    "pipe_rf_oversample = Pipeline(steps=[\n",
    "    ('preprocessor', preprocessor),\n",
    "    ('clf', RandomForestClassifier(random_state=42))\n",
    "])\n",
    "\n",
    "# Hyperparameter tuning\n",
    "param_dist = {\n",
    "    'clf__n_estimators': [200, 300, 400, 500],\n",
    "    'clf__max_depth': [None, 5, 10, 15, 20],\n",
    "    'clf__min_samples_split': [2, 5, 10],\n",
    "    'clf__min_samples_leaf': [1, 2, 4],\n",
    "    'clf__max_features': ['sqrt', 'log2']\n",
    "}\n",
    "\n",
    "random_search = RandomizedSearchCV(\n",
    "    estimator=pipe_rf_oversample,\n",
    "    param_distributions=param_dist,\n",
    "    n_iter=20,\n",
    "    scoring='f1',\n",
    "    cv=3,\n",
    "    verbose=1,\n",
    "    random_state=42,\n",
    "    n_jobs=-1\n",
    ")\n",
    "\n",
    "random_search.fit(X_train_upsampled, y_train_upsampled)\n",
    "\n",
    "best_rf_model = random_search.best_estimator_\n",
    "\n",
    "# Evaluate on validation set\n",
    "y_val_pred_best = best_rf_model.predict(X_val)\n",
    "y_val_prob_best = best_rf_model.predict_proba(X_val)[:, 1]\n",
    "\n",
    "best_f1 = f1_score(y_val, y_val_pred_best)\n",
    "best_auc = roc_auc_score(y_val, y_val_prob_best)\n",
    "\n",
    "print(\"Best Parameters:\", random_search.best_params_)\n",
    "print(\"Best F1 on Validation Set:\", best_f1)\n",
    "print(\"Best AUC-ROC on Validation Set:\", best_auc)"
   ]
  },
  {
   "cell_type": "code",
   "execution_count": 12,
   "metadata": {},
   "outputs": [
    {
     "name": "stdout",
     "output_type": "stream",
     "text": [
      "Test F1 Score: 0.5895\n",
      "Test ROC-AUC: 0.8523\n"
     ]
    }
   ],
   "source": [
    "# Predict on test set using the tuned best model\n",
    "y_test_pred = best_rf_model.predict(X_test)\n",
    "y_test_prob = best_rf_model.predict_proba(X_test)[:, 1]\n",
    "\n",
    "# Compute F1 and AUC-ROC\n",
    "test_f1 = f1_score(y_test, y_test_pred)\n",
    "test_auc = roc_auc_score(y_test, y_test_prob)\n",
    "\n",
    "print(f\"Test F1 Score: {test_f1:.4f}\")\n",
    "print(f\"Test ROC-AUC: {test_auc:.4f}\")"
   ]
  },
  {
   "cell_type": "code",
   "execution_count": 8,
   "metadata": {},
   "outputs": [
    {
     "name": "stdout",
     "output_type": "stream",
     "text": [
      "Best Validation Threshold: 0.43999999999999995, F1: 0.6346\n",
      "Final Test F1 (with threshold tuning): 0.6033\n",
      "Final Test ROC-AUC: 0.8523\n"
     ]
    }
   ],
   "source": [
    "import numpy as np\n",
    "from sklearn.metrics import f1_score\n",
    "\n",
    "# Get predicted probabilities\n",
    "y_val_prob = best_rf_model.predict_proba(X_val)[:, 1]\n",
    "\n",
    "# Try different thresholds\n",
    "thresholds = np.linspace(0.3, 0.7, 21)\n",
    "best_threshold = 0.5\n",
    "best_f1_val = 0\n",
    "\n",
    "for t in thresholds:\n",
    "    preds = (y_val_prob >= t).astype(int)\n",
    "    score = f1_score(y_val, preds)\n",
    "    if score > best_f1_val:\n",
    "        best_f1_val = score\n",
    "        best_threshold = t\n",
    "\n",
    "print(f\"Best Validation Threshold: {best_threshold}, F1: {best_f1_val:.4f}\")\n",
    "\n",
    "# Apply best threshold on test set\n",
    "y_test_prob = best_rf_model.predict_proba(X_test)[:, 1]\n",
    "y_test_pred_thresh = (y_test_prob >= best_threshold).astype(int)\n",
    "\n",
    "test_f1 = f1_score(y_test, y_test_pred_thresh)\n",
    "test_auc = roc_auc_score(y_test, y_test_prob)\n",
    "\n",
    "print(f\"Final Test F1 (with threshold tuning): {test_f1:.4f}\")\n",
    "print(f\"Final Test ROC-AUC: {test_auc:.4f}\")"
   ]
  },
  {
   "cell_type": "markdown",
   "metadata": {},
   "source": [
    "Goal:  \n",
    "Predict which customers are likely to leave Beta Bank. Main metric: F1 score ≥ 0.59.\n",
    "\n",
    "What We Did:  \n",
    " Cleaned and prepared the data (removed extra columns, encoded categories, scaled numbers).  \n",
    " Found the data was imbalanced (only ~20% churned).  \n",
    " Tried two fixes: class weighting and oversampling. Oversampling worked better.  \n",
    " Trained a Random Forest model and tuned it with RandomizedSearchCV.  \n",
    " Adjusted the prediction threshold to improve F1 score.\n",
    "\n",
    "Results (Test Set):  \n",
    " F1 Score: > 0.59  \n",
    " ROC-AUC: ~0.85 (strong at telling churn vs. non-churn apart)\n",
    "\n",
    "Conclusion:  \n",
    "Our model meets the project goal and can help Beta Bank take action before customers leave."
   ]
  },
  {
   "cell_type": "markdown",
   "metadata": {},
   "source": [
    "<div class=\"alert alert-block alert-danger\">\n",
    "<b>Reviewer's comment v1:</b> </a>\n",
    "\n",
    "Aw! F1 just below the threshold!\n",
    "\n",
    "I recommend unifying the train and val datasets to train the best random forest with the best parameters before using it agains the test set!\n",
    "\n",
    "If you get any other ideas, feel free to implement them to surpass the threshold!\n",
    "    \n",
    "</div>"
   ]
  },
  {
   "cell_type": "markdown",
   "metadata": {},
   "source": [
    "<div class=\"alert alert-block alert-warning\">\n",
    "<b>Reviewer's comment v1:</b> </a>\n",
    "\n",
    "Also building a small report of what ended up working and what the final metrics are would be awesome!\n",
    "    \n",
    "</div>"
   ]
  },
  {
   "cell_type": "markdown",
   "metadata": {},
   "source": [
    "<div class=\"alert alert-block alert-success\">\n",
    "<b>Reviewer's comment v2:</b> </a>\n",
    "\n",
    "Goal F1 surpassed! Congrats!\n",
    "\n",
    "Final summary looking awesome, Great job!\n",
    "    \n",
    "</div>"
   ]
  }
 ],
 "metadata": {
  "kernelspec": {
   "display_name": "Python 3 (ipykernel)",
   "language": "python",
   "name": "python3"
  },
  "language_info": {
   "codemirror_mode": {
    "name": "ipython",
    "version": 3
   },
   "file_extension": ".py",
   "mimetype": "text/x-python",
   "name": "python",
   "nbconvert_exporter": "python",
   "pygments_lexer": "ipython3",
   "version": "3.9.23"
  }
 },
 "nbformat": 4,
 "nbformat_minor": 4
}
